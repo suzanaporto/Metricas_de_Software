{
  "nbformat": 4,
  "nbformat_minor": 0,
  "metadata": {
    "colab": {
      "name": "Metricas.ipynb",
      "provenance": [],
      "include_colab_link": true
    },
    "kernelspec": {
      "name": "python3",
      "display_name": "Python 3"
    }
  },
  "cells": [
    {
      "cell_type": "markdown",
      "metadata": {
        "id": "view-in-github",
        "colab_type": "text"
      },
      "source": [
        "<a href=\"https://colab.research.google.com/github/suzanaporto/Metricas_de_Software/blob/master/Metricas.ipynb\" target=\"_parent\"><img src=\"https://colab.research.google.com/assets/colab-badge.svg\" alt=\"Open In Colab\"/></a>"
      ]
    },
    {
      "cell_type": "markdown",
      "metadata": {
        "id": "cpkEv0JIB1lv",
        "colab_type": "text"
      },
      "source": [
        "# Métricas de Software"
      ]
    },
    {
      "cell_type": "markdown",
      "metadata": {
        "id": "HSZ3Ct57ByB_",
        "colab_type": "text"
      },
      "source": [
        "## Especificação do Trabalho\n",
        "\n",
        "1.   Buscar 2 projetos no github\n",
        "2.   Fazer 3 métricas (Comprimento do código/ Índice Fog/ Fan-in Fan-out)"
      ]
    },
    {
      "cell_type": "markdown",
      "metadata": {
        "id": "1m8zwrmoCR9L",
        "colab_type": "text"
      },
      "source": [
        "### Download do Github"
      ]
    },
    {
      "cell_type": "code",
      "metadata": {
        "id": "Q0lL_kTyGVx3",
        "colab_type": "code",
        "colab": {}
      },
      "source": [
        "# Inicializando Dependencias\n",
        "import os\n",
        "import pandas as pd\n",
        "import re\n",
        "import matplotlib.pyplot as plt"
      ],
      "execution_count": 0,
      "outputs": []
    },
    {
      "cell_type": "code",
      "metadata": {
        "id": "NaTBkUG_BvGA",
        "colab_type": "code",
        "colab": {
          "base_uri": "https://localhost:8080/",
          "height": 153
        },
        "outputId": "4625f6bb-38d7-4a0b-f809-ed38fa13db26"
      },
      "source": [
        "# Download do github / Escalonadores de memória\n",
        "# Clonar repositórios\n",
        "!git clone https://github.com/Beroni/Escalonador-Memoria.git\n",
        "!git clone https://github.com/suzanaporto/Memory_Allocation.git"
      ],
      "execution_count": 2,
      "outputs": [
        {
          "output_type": "stream",
          "text": [
            "Cloning into 'Escalonador-Memoria'...\n",
            "remote: Enumerating objects: 7, done.\u001b[K\n",
            "remote: Total 7 (delta 0), reused 0 (delta 0), pack-reused 7\u001b[K\n",
            "Unpacking objects: 100% (7/7), done.\n",
            "Cloning into 'Memory_Allocation'...\n",
            "remote: Enumerating objects: 13, done.\u001b[K\n",
            "remote: Total 13 (delta 0), reused 0 (delta 0), pack-reused 13\u001b[K\n",
            "Unpacking objects: 100% (13/13), done.\n"
          ],
          "name": "stdout"
        }
      ]
    },
    {
      "cell_type": "code",
      "metadata": {
        "id": "9Ga2r9PAFlKT",
        "colab_type": "code",
        "colab": {
          "base_uri": "https://localhost:8080/",
          "height": 34
        },
        "outputId": "da0d5b2b-583f-4dc5-8103-367f1e40115b"
      },
      "source": [
        "!ls"
      ],
      "execution_count": 3,
      "outputs": [
        {
          "output_type": "stream",
          "text": [
            "Escalonador-Memoria  Memory_Allocation\tsample_data\n"
          ],
          "name": "stdout"
        }
      ]
    },
    {
      "cell_type": "markdown",
      "metadata": {
        "id": "OUW-M2TWONci",
        "colab_type": "text"
      },
      "source": [
        "### 1) Comprimento de Código\n",
        "Verificar quantidade de linhas de código cada arquivo possui"
      ]
    },
    {
      "cell_type": "code",
      "metadata": {
        "id": "mCeCYHf1Jz6J",
        "colab_type": "code",
        "colab": {}
      },
      "source": [
        "projects = [i for i in os.listdir(\"/content/\") if i != \"sample_data\" and not i.startswith(\".\")]\n",
        "\n",
        "dados_proj1 = []\n",
        "dados_proj2 = []\n",
        "proj = 0\n",
        "\n",
        "# Iterar projetos\n",
        "for project in projects:\n",
        "  proj += 1\n",
        "  # Lista com os arquivos do projeto\n",
        "  files = [i for i in os.listdir(\"/content/\"+project) if i.endswith(\"py\")]\n",
        "  for file in files:\n",
        "    f = open(\"/content/\"+ project+ \"/\" + file).readlines()\n",
        "    f = [i.strip('\\n') for i in f]\n",
        "\n",
        "    count = 0\n",
        "    for i in f:\n",
        "      if i != \"\":\n",
        "        count += 1\n",
        "\n",
        "    if(proj == 1):\n",
        "      dados_proj1.append([file, count])\n",
        "    else:\n",
        "      if(proj == 2):\n",
        "        dados_proj2.append([file, count])\n"
      ],
      "execution_count": 0,
      "outputs": []
    },
    {
      "cell_type": "code",
      "metadata": {
        "id": "FEMIxQUJKbgf",
        "colab_type": "code",
        "colab": {
          "base_uri": "https://localhost:8080/",
          "height": 360
        },
        "outputId": "d4907f2b-e8c3-4a2c-c4c9-a57b484930d7"
      },
      "source": [
        "# Linhas de código no DataFrame\n",
        "df = pd.DataFrame(dados_proj1, columns=[\"Nome do Arquivo\", \"Quantidade de Linhas\"])\n",
        "df.name = \"Memory Allocation\"\n",
        "dfs = pd.DataFrame(dados_proj2, columns=[\"Nome do Arquivo\", \"Quantidade de Linhas\"])\n",
        "dfs.name = \"Escalonador de Memória\"\n",
        "\n",
        "display(dfs)\n",
        "display(df)"
      ],
      "execution_count": 73,
      "outputs": [
        {
          "output_type": "display_data",
          "data": {
            "text/html": [
              "<div>\n",
              "<style scoped>\n",
              "    .dataframe tbody tr th:only-of-type {\n",
              "        vertical-align: middle;\n",
              "    }\n",
              "\n",
              "    .dataframe tbody tr th {\n",
              "        vertical-align: top;\n",
              "    }\n",
              "\n",
              "    .dataframe thead th {\n",
              "        text-align: right;\n",
              "    }\n",
              "</style>\n",
              "<table border=\"1\" class=\"dataframe\">\n",
              "  <thead>\n",
              "    <tr style=\"text-align: right;\">\n",
              "      <th></th>\n",
              "      <th>Nome do Arquivo</th>\n",
              "      <th>Quantidade de Linhas</th>\n",
              "    </tr>\n",
              "  </thead>\n",
              "  <tbody>\n",
              "    <tr>\n",
              "      <th>0</th>\n",
              "      <td>Best_Fit.py</td>\n",
              "      <td>248</td>\n",
              "    </tr>\n",
              "    <tr>\n",
              "      <th>1</th>\n",
              "      <td>Process.py</td>\n",
              "      <td>10</td>\n",
              "    </tr>\n",
              "    <tr>\n",
              "      <th>2</th>\n",
              "      <td>Memory.py</td>\n",
              "      <td>11</td>\n",
              "    </tr>\n",
              "    <tr>\n",
              "      <th>3</th>\n",
              "      <td>Worst_Fit.py</td>\n",
              "      <td>248</td>\n",
              "    </tr>\n",
              "    <tr>\n",
              "      <th>4</th>\n",
              "      <td>Mem_Seg.py</td>\n",
              "      <td>7</td>\n",
              "    </tr>\n",
              "    <tr>\n",
              "      <th>5</th>\n",
              "      <td>Main_animation.py</td>\n",
              "      <td>64</td>\n",
              "    </tr>\n",
              "    <tr>\n",
              "      <th>6</th>\n",
              "      <td>First_Fit.py</td>\n",
              "      <td>238</td>\n",
              "    </tr>\n",
              "  </tbody>\n",
              "</table>\n",
              "</div>"
            ],
            "text/plain": [
              "     Nome do Arquivo  Quantidade de Linhas\n",
              "0        Best_Fit.py                   248\n",
              "1         Process.py                    10\n",
              "2          Memory.py                    11\n",
              "3       Worst_Fit.py                   248\n",
              "4         Mem_Seg.py                     7\n",
              "5  Main_animation.py                    64\n",
              "6       First_Fit.py                   238"
            ]
          },
          "metadata": {
            "tags": []
          }
        },
        {
          "output_type": "display_data",
          "data": {
            "text/html": [
              "<div>\n",
              "<style scoped>\n",
              "    .dataframe tbody tr th:only-of-type {\n",
              "        vertical-align: middle;\n",
              "    }\n",
              "\n",
              "    .dataframe tbody tr th {\n",
              "        vertical-align: top;\n",
              "    }\n",
              "\n",
              "    .dataframe thead th {\n",
              "        text-align: right;\n",
              "    }\n",
              "</style>\n",
              "<table border=\"1\" class=\"dataframe\">\n",
              "  <thead>\n",
              "    <tr style=\"text-align: right;\">\n",
              "      <th></th>\n",
              "      <th>Nome do Arquivo</th>\n",
              "      <th>Quantidade de Linhas</th>\n",
              "    </tr>\n",
              "  </thead>\n",
              "  <tbody>\n",
              "    <tr>\n",
              "      <th>0</th>\n",
              "      <td>main.py</td>\n",
              "      <td>97</td>\n",
              "    </tr>\n",
              "    <tr>\n",
              "      <th>1</th>\n",
              "      <td>teste.py</td>\n",
              "      <td>15</td>\n",
              "    </tr>\n",
              "  </tbody>\n",
              "</table>\n",
              "</div>"
            ],
            "text/plain": [
              "  Nome do Arquivo  Quantidade de Linhas\n",
              "0         main.py                    97\n",
              "1        teste.py                    15"
            ]
          },
          "metadata": {
            "tags": []
          }
        }
      ]
    },
    {
      "cell_type": "code",
      "metadata": {
        "id": "c1HHZZ1IMUMj",
        "colab_type": "code",
        "colab": {
          "base_uri": "https://localhost:8080/",
          "height": 51
        },
        "outputId": "a912b6ee-9a22-475a-866d-a907ae4c0a03"
      },
      "source": [
        "# Médias\n",
        "media_1 = dfs[\"Quantidade de Linhas\"].mean()\n",
        "media_2 = df[\"Quantidade de Linhas\"].mean()\n",
        "\n",
        "print(media_1)\n",
        "print(media_2)"
      ],
      "execution_count": 74,
      "outputs": [
        {
          "output_type": "stream",
          "text": [
            "118.0\n",
            "56.0\n"
          ],
          "name": "stdout"
        }
      ]
    },
    {
      "cell_type": "code",
      "metadata": {
        "id": "J7UhLkydQ3iJ",
        "colab_type": "code",
        "colab": {
          "base_uri": "https://localhost:8080/",
          "height": 51
        },
        "outputId": "13199501-4916-4807-94ab-f0270e97d8fc"
      },
      "source": [
        "# Variancia\n",
        "var_1 = dfs[\"Quantidade de Linhas\"].var()\n",
        "var_2 = df[\"Quantidade de Linhas\"].var()\n",
        "\n",
        "print(\"DFS: \" + str(var_1))\n",
        "print(\"DF: \" + str(var_2))"
      ],
      "execution_count": 75,
      "outputs": [
        {
          "output_type": "stream",
          "text": [
            "DFS: 14425.0\n",
            "DF: 3362.0\n"
          ],
          "name": "stdout"
        }
      ]
    },
    {
      "cell_type": "markdown",
      "metadata": {
        "id": "ZaDo8rkFOThN",
        "colab_type": "text"
      },
      "source": [
        "### 2) Índice Fog\n",
        "Verificar se o nome das variáveis está muito grande"
      ]
    },
    {
      "cell_type": "code",
      "metadata": {
        "id": "-V57Kfy_NH2T",
        "colab_type": "code",
        "colab": {}
      },
      "source": [
        "projects = [i for i in os.listdir(\"/content/\") if i != \"sample_data\" and not i.startswith(\".\")]\n",
        "\n",
        "dados_fog_proj1 = []\n",
        "dados_fog_proj2 = []\n",
        "proj = 0\n",
        "\n",
        "# Iterar projetos\n",
        "for project in projects:\n",
        "  proj += 1\n",
        "  # Lista com os arquivos do projeto\n",
        "  files = [i for i in os.listdir(\"/content/\"+project) if i.endswith(\"py\")]\n",
        "  # Iterar arquivos\n",
        "  for file in files:\n",
        "    # Open file\n",
        "    f = open(\"/content/\"+ project+ \"/\" + file).readlines()\n",
        "    # Take out \\n from each line\n",
        "    f = [i.strip('\\n') for i in f]\n",
        "    f = [i.split('=')[0].strip(\" \") for i in f if '=' in i]\n",
        "    count = 0\n",
        "    for i in f:\n",
        "      if(proj == 1): \n",
        "        dados_fog_proj1.append([i,len(i)])\n",
        "      else:\n",
        "        if(proj == 2):\n",
        "          dados_fog_proj2.append([i,len(i)])"
      ],
      "execution_count": 0,
      "outputs": []
    },
    {
      "cell_type": "code",
      "metadata": {
        "id": "zF7iUt--TGjF",
        "colab_type": "code",
        "colab": {
          "base_uri": "https://localhost:8080/",
          "height": 1000
        },
        "outputId": "bb0cdbe2-5cec-4761-9890-05678661f4cc"
      },
      "source": [
        "# Variáveis\n",
        "df_fog = pd.DataFrame(dados_fog_proj1, columns=[\"Variavel\", \"Tamanho da palavra\"])\n",
        "df_fog.name = \"Memory Allocation\"\n",
        "dfs_fog = pd.DataFrame(dados_fog_proj2, columns=[\"Variavel\", \"Tamanho da palavra\"])\n",
        "dfs_fog.name = \"Escalonador de Memória\"\n",
        "\n",
        "df_fog.drop_duplicates(keep = 'first', inplace = True) \n",
        "dfs_fog.drop_duplicates(keep = 'first', inplace = True) \n",
        "\n",
        "for (index,row) in df_fog.iterrows():\n",
        "  if (\"if\" in row['Variavel']) or (\" \" in row['Variavel']) or (\"(\" in row['Variavel']) or (\".\" in row['Variavel']) or (\"[\" in row['Variavel']):\n",
        "    df_fog.drop(index, inplace=True)\n",
        "\n",
        "for (index, row) in dfs_fog.iterrows():\n",
        "  if (\"if\" in row['Variavel']) or (\" \" in row['Variavel']) or (\"(\" in row['Variavel']) or (\".\" in row['Variavel']) or (\"[\" in row['Variavel']):\n",
        "    dfs_fog.drop(index, inplace=True)\n",
        "\n",
        "dfs_fog = dfs_fog.reset_index(drop=True)\n",
        "df_fog = df_fog.reset_index(drop=True)\n",
        "\n",
        "print(\"DFS\")\n",
        "display(dfs_fog)\n",
        "print(\"DF\")\n",
        "display(df_fog)"
      ],
      "execution_count": 76,
      "outputs": [
        {
          "output_type": "stream",
          "text": [
            "DFS\n"
          ],
          "name": "stdout"
        },
        {
          "output_type": "display_data",
          "data": {
            "text/html": [
              "<div>\n",
              "<style scoped>\n",
              "    .dataframe tbody tr th:only-of-type {\n",
              "        vertical-align: middle;\n",
              "    }\n",
              "\n",
              "    .dataframe tbody tr th {\n",
              "        vertical-align: top;\n",
              "    }\n",
              "\n",
              "    .dataframe thead th {\n",
              "        text-align: right;\n",
              "    }\n",
              "</style>\n",
              "<table border=\"1\" class=\"dataframe\">\n",
              "  <thead>\n",
              "    <tr style=\"text-align: right;\">\n",
              "      <th></th>\n",
              "      <th>Variavel</th>\n",
              "      <th>Tamanho da palavra</th>\n",
              "    </tr>\n",
              "  </thead>\n",
              "  <tbody>\n",
              "    <tr>\n",
              "      <th>0</th>\n",
              "      <td>grd</td>\n",
              "      <td>3</td>\n",
              "    </tr>\n",
              "    <tr>\n",
              "      <th>1</th>\n",
              "      <td>proc_list</td>\n",
              "      <td>9</td>\n",
              "    </tr>\n",
              "    <tr>\n",
              "      <th>2</th>\n",
              "      <td>mem_seg</td>\n",
              "      <td>7</td>\n",
              "    </tr>\n",
              "    <tr>\n",
              "      <th>3</th>\n",
              "      <td>mem_seg_free</td>\n",
              "      <td>12</td>\n",
              "    </tr>\n",
              "    <tr>\n",
              "      <th>4</th>\n",
              "      <td>proc_color</td>\n",
              "      <td>10</td>\n",
              "    </tr>\n",
              "    <tr>\n",
              "      <th>5</th>\n",
              "      <td>rdn_bt</td>\n",
              "      <td>6</td>\n",
              "    </tr>\n",
              "    <tr>\n",
              "      <th>6</th>\n",
              "      <td>rdn_at</td>\n",
              "      <td>6</td>\n",
              "    </tr>\n",
              "    <tr>\n",
              "      <th>7</th>\n",
              "      <td>rdn_size</td>\n",
              "      <td>8</td>\n",
              "    </tr>\n",
              "    <tr>\n",
              "      <th>8</th>\n",
              "      <td>p_name</td>\n",
              "      <td>6</td>\n",
              "    </tr>\n",
              "    <tr>\n",
              "      <th>9</th>\n",
              "      <td>p</td>\n",
              "      <td>1</td>\n",
              "    </tr>\n",
              "    <tr>\n",
              "      <th>10</th>\n",
              "      <td>x</td>\n",
              "      <td>1</td>\n",
              "    </tr>\n",
              "    <tr>\n",
              "      <th>11</th>\n",
              "      <td>x_bfr</td>\n",
              "      <td>5</td>\n",
              "    </tr>\n",
              "    <tr>\n",
              "      <th>12</th>\n",
              "      <td>rdn_x1</td>\n",
              "      <td>6</td>\n",
              "    </tr>\n",
              "    <tr>\n",
              "      <th>13</th>\n",
              "      <td>rdn_x2</td>\n",
              "      <td>6</td>\n",
              "    </tr>\n",
              "    <tr>\n",
              "      <th>14</th>\n",
              "      <td>seg</td>\n",
              "      <td>3</td>\n",
              "    </tr>\n",
              "    <tr>\n",
              "      <th>15</th>\n",
              "      <td>mg</td>\n",
              "      <td>2</td>\n",
              "    </tr>\n",
              "    <tr>\n",
              "      <th>16</th>\n",
              "      <td>id_ms</td>\n",
              "      <td>5</td>\n",
              "    </tr>\n",
              "    <tr>\n",
              "      <th>17</th>\n",
              "      <td>space</td>\n",
              "      <td>5</td>\n",
              "    </tr>\n",
              "    <tr>\n",
              "      <th>18</th>\n",
              "      <td>x1</td>\n",
              "      <td>2</td>\n",
              "    </tr>\n",
              "    <tr>\n",
              "      <th>19</th>\n",
              "      <td>x2</td>\n",
              "      <td>2</td>\n",
              "    </tr>\n",
              "    <tr>\n",
              "      <th>20</th>\n",
              "      <td>segment</td>\n",
              "      <td>7</td>\n",
              "    </tr>\n",
              "    <tr>\n",
              "      <th>21</th>\n",
              "      <td>response</td>\n",
              "      <td>8</td>\n",
              "    </tr>\n",
              "    <tr>\n",
              "      <th>22</th>\n",
              "      <td>mem_seg_f</td>\n",
              "      <td>9</td>\n",
              "    </tr>\n",
              "    <tr>\n",
              "      <th>23</th>\n",
              "      <td>list_p</td>\n",
              "      <td>6</td>\n",
              "    </tr>\n",
              "    <tr>\n",
              "      <th>24</th>\n",
              "      <td>font_settings_proc</td>\n",
              "      <td>18</td>\n",
              "    </tr>\n",
              "    <tr>\n",
              "      <th>25</th>\n",
              "      <td>proc_text</td>\n",
              "      <td>9</td>\n",
              "    </tr>\n",
              "    <tr>\n",
              "      <th>26</th>\n",
              "      <td>proc_num</td>\n",
              "      <td>8</td>\n",
              "    </tr>\n",
              "    <tr>\n",
              "      <th>27</th>\n",
              "      <td>i</td>\n",
              "      <td>1</td>\n",
              "    </tr>\n",
              "    <tr>\n",
              "      <th>28</th>\n",
              "      <td>j</td>\n",
              "      <td>1</td>\n",
              "    </tr>\n",
              "    <tr>\n",
              "      <th>29</th>\n",
              "      <td>wait_list</td>\n",
              "      <td>9</td>\n",
              "    </tr>\n",
              "    <tr>\n",
              "      <th>30</th>\n",
              "      <td>delete_p</td>\n",
              "      <td>8</td>\n",
              "    </tr>\n",
              "    <tr>\n",
              "      <th>31</th>\n",
              "      <td>segment_m</td>\n",
              "      <td>9</td>\n",
              "    </tr>\n",
              "    <tr>\n",
              "      <th>32</th>\n",
              "      <td>rect_memo_piece</td>\n",
              "      <td>15</td>\n",
              "    </tr>\n",
              "    <tr>\n",
              "      <th>33</th>\n",
              "      <td>outline</td>\n",
              "      <td>7</td>\n",
              "    </tr>\n",
              "    <tr>\n",
              "      <th>34</th>\n",
              "      <td>best_idx</td>\n",
              "      <td>8</td>\n",
              "    </tr>\n",
              "    <tr>\n",
              "      <th>35</th>\n",
              "      <td>rect_indicator</td>\n",
              "      <td>14</td>\n",
              "    </tr>\n",
              "    <tr>\n",
              "      <th>36</th>\n",
              "      <td>rect_mem</td>\n",
              "      <td>8</td>\n",
              "    </tr>\n",
              "    <tr>\n",
              "      <th>37</th>\n",
              "      <td>seg_atual</td>\n",
              "      <td>9</td>\n",
              "    </tr>\n",
              "    <tr>\n",
              "      <th>38</th>\n",
              "      <td>worst_idx</td>\n",
              "      <td>9</td>\n",
              "    </tr>\n",
              "    <tr>\n",
              "      <th>39</th>\n",
              "      <td>animation</td>\n",
              "      <td>9</td>\n",
              "    </tr>\n",
              "    <tr>\n",
              "      <th>40</th>\n",
              "      <td>windowWidth</td>\n",
              "      <td>11</td>\n",
              "    </tr>\n",
              "    <tr>\n",
              "      <th>41</th>\n",
              "      <td>windowHeight</td>\n",
              "      <td>12</td>\n",
              "    </tr>\n",
              "    <tr>\n",
              "      <th>42</th>\n",
              "      <td>positionRight</td>\n",
              "      <td>13</td>\n",
              "    </tr>\n",
              "    <tr>\n",
              "      <th>43</th>\n",
              "      <td>positionDown</td>\n",
              "      <td>12</td>\n",
              "    </tr>\n",
              "    <tr>\n",
              "      <th>44</th>\n",
              "      <td>container1</td>\n",
              "      <td>10</td>\n",
              "    </tr>\n",
              "    <tr>\n",
              "      <th>45</th>\n",
              "      <td>container2</td>\n",
              "      <td>10</td>\n",
              "    </tr>\n",
              "    <tr>\n",
              "      <th>46</th>\n",
              "      <td>font_settings</td>\n",
              "      <td>13</td>\n",
              "    </tr>\n",
              "    <tr>\n",
              "      <th>47</th>\n",
              "      <td>font</td>\n",
              "      <td>4</td>\n",
              "    </tr>\n",
              "    <tr>\n",
              "      <th>48</th>\n",
              "      <td>canvas</td>\n",
              "      <td>6</td>\n",
              "    </tr>\n",
              "    <tr>\n",
              "      <th>49</th>\n",
              "      <td>ff</td>\n",
              "      <td>2</td>\n",
              "    </tr>\n",
              "    <tr>\n",
              "      <th>50</th>\n",
              "      <td>bf</td>\n",
              "      <td>2</td>\n",
              "    </tr>\n",
              "    <tr>\n",
              "      <th>51</th>\n",
              "      <td>wf</td>\n",
              "      <td>2</td>\n",
              "    </tr>\n",
              "    <tr>\n",
              "      <th>52</th>\n",
              "      <td>btn_first</td>\n",
              "      <td>9</td>\n",
              "    </tr>\n",
              "    <tr>\n",
              "      <th>53</th>\n",
              "      <td>btn_best</td>\n",
              "      <td>8</td>\n",
              "    </tr>\n",
              "    <tr>\n",
              "      <th>54</th>\n",
              "      <td>btn_worst</td>\n",
              "      <td>9</td>\n",
              "    </tr>\n",
              "    <tr>\n",
              "      <th>55</th>\n",
              "      <td>fill</td>\n",
              "      <td>4</td>\n",
              "    </tr>\n",
              "  </tbody>\n",
              "</table>\n",
              "</div>"
            ],
            "text/plain": [
              "              Variavel  Tamanho da palavra\n",
              "0                  grd                   3\n",
              "1            proc_list                   9\n",
              "2              mem_seg                   7\n",
              "3         mem_seg_free                  12\n",
              "4           proc_color                  10\n",
              "5               rdn_bt                   6\n",
              "6               rdn_at                   6\n",
              "7             rdn_size                   8\n",
              "8               p_name                   6\n",
              "9                    p                   1\n",
              "10                   x                   1\n",
              "11               x_bfr                   5\n",
              "12              rdn_x1                   6\n",
              "13              rdn_x2                   6\n",
              "14                 seg                   3\n",
              "15                  mg                   2\n",
              "16               id_ms                   5\n",
              "17               space                   5\n",
              "18                  x1                   2\n",
              "19                  x2                   2\n",
              "20             segment                   7\n",
              "21            response                   8\n",
              "22           mem_seg_f                   9\n",
              "23              list_p                   6\n",
              "24  font_settings_proc                  18\n",
              "25           proc_text                   9\n",
              "26            proc_num                   8\n",
              "27                   i                   1\n",
              "28                   j                   1\n",
              "29           wait_list                   9\n",
              "30            delete_p                   8\n",
              "31           segment_m                   9\n",
              "32     rect_memo_piece                  15\n",
              "33             outline                   7\n",
              "34            best_idx                   8\n",
              "35      rect_indicator                  14\n",
              "36            rect_mem                   8\n",
              "37           seg_atual                   9\n",
              "38           worst_idx                   9\n",
              "39           animation                   9\n",
              "40         windowWidth                  11\n",
              "41        windowHeight                  12\n",
              "42       positionRight                  13\n",
              "43        positionDown                  12\n",
              "44          container1                  10\n",
              "45          container2                  10\n",
              "46       font_settings                  13\n",
              "47                font                   4\n",
              "48              canvas                   6\n",
              "49                  ff                   2\n",
              "50                  bf                   2\n",
              "51                  wf                   2\n",
              "52           btn_first                   9\n",
              "53            btn_best                   8\n",
              "54           btn_worst                   9\n",
              "55                fill                   4"
            ]
          },
          "metadata": {
            "tags": []
          }
        },
        {
          "output_type": "stream",
          "text": [
            "DF\n"
          ],
          "name": "stdout"
        },
        {
          "output_type": "display_data",
          "data": {
            "text/html": [
              "<div>\n",
              "<style scoped>\n",
              "    .dataframe tbody tr th:only-of-type {\n",
              "        vertical-align: middle;\n",
              "    }\n",
              "\n",
              "    .dataframe tbody tr th {\n",
              "        vertical-align: top;\n",
              "    }\n",
              "\n",
              "    .dataframe thead th {\n",
              "        text-align: right;\n",
              "    }\n",
              "</style>\n",
              "<table border=\"1\" class=\"dataframe\">\n",
              "  <thead>\n",
              "    <tr style=\"text-align: right;\">\n",
              "      <th></th>\n",
              "      <th>Variavel</th>\n",
              "      <th>Tamanho da palavra</th>\n",
              "    </tr>\n",
              "  </thead>\n",
              "  <tbody>\n",
              "    <tr>\n",
              "      <th>0</th>\n",
              "      <td>MemorySize</td>\n",
              "      <td>10</td>\n",
              "    </tr>\n",
              "    <tr>\n",
              "      <th>1</th>\n",
              "      <td>Memory</td>\n",
              "      <td>6</td>\n",
              "    </tr>\n",
              "    <tr>\n",
              "      <th>2</th>\n",
              "      <td>MemorytoAlocateSize</td>\n",
              "      <td>19</td>\n",
              "    </tr>\n",
              "    <tr>\n",
              "      <th>3</th>\n",
              "      <td>allocate</td>\n",
              "      <td>8</td>\n",
              "    </tr>\n",
              "    <tr>\n",
              "      <th>4</th>\n",
              "      <td>firstZero</td>\n",
              "      <td>9</td>\n",
              "    </tr>\n",
              "    <tr>\n",
              "      <th>5</th>\n",
              "      <td>count</td>\n",
              "      <td>5</td>\n",
              "    </tr>\n",
              "    <tr>\n",
              "      <th>6</th>\n",
              "      <td>firstZeroindex</td>\n",
              "      <td>14</td>\n",
              "    </tr>\n",
              "    <tr>\n",
              "      <th>7</th>\n",
              "      <td>worstZeroindex</td>\n",
              "      <td>14</td>\n",
              "    </tr>\n",
              "    <tr>\n",
              "      <th>8</th>\n",
              "      <td>longest</td>\n",
              "      <td>7</td>\n",
              "    </tr>\n",
              "    <tr>\n",
              "      <th>9</th>\n",
              "      <td>bestZeroindex</td>\n",
              "      <td>13</td>\n",
              "    </tr>\n",
              "    <tr>\n",
              "      <th>10</th>\n",
              "      <td>lowest</td>\n",
              "      <td>6</td>\n",
              "    </tr>\n",
              "    <tr>\n",
              "      <th>11</th>\n",
              "      <td>xcount</td>\n",
              "      <td>6</td>\n",
              "    </tr>\n",
              "    <tr>\n",
              "      <th>12</th>\n",
              "      <td>blockSize</td>\n",
              "      <td>9</td>\n",
              "    </tr>\n",
              "    <tr>\n",
              "      <th>13</th>\n",
              "      <td>option</td>\n",
              "      <td>6</td>\n",
              "    </tr>\n",
              "    <tr>\n",
              "      <th>14</th>\n",
              "      <td>n</td>\n",
              "      <td>1</td>\n",
              "    </tr>\n",
              "    <tr>\n",
              "      <th>15</th>\n",
              "      <td>currentCount</td>\n",
              "      <td>12</td>\n",
              "    </tr>\n",
              "  </tbody>\n",
              "</table>\n",
              "</div>"
            ],
            "text/plain": [
              "               Variavel  Tamanho da palavra\n",
              "0            MemorySize                  10\n",
              "1                Memory                   6\n",
              "2   MemorytoAlocateSize                  19\n",
              "3              allocate                   8\n",
              "4             firstZero                   9\n",
              "5                 count                   5\n",
              "6        firstZeroindex                  14\n",
              "7        worstZeroindex                  14\n",
              "8               longest                   7\n",
              "9         bestZeroindex                  13\n",
              "10               lowest                   6\n",
              "11               xcount                   6\n",
              "12            blockSize                   9\n",
              "13               option                   6\n",
              "14                    n                   1\n",
              "15         currentCount                  12"
            ]
          },
          "metadata": {
            "tags": []
          }
        }
      ]
    },
    {
      "cell_type": "code",
      "metadata": {
        "id": "BFrY_T6FkUCO",
        "colab_type": "code",
        "colab": {
          "base_uri": "https://localhost:8080/",
          "height": 51
        },
        "outputId": "8771ec89-a4cb-4ddb-c6fa-38897d3d5560"
      },
      "source": [
        "# Valor Máximo\n",
        "maximo_df = df_fog['Tamanho da palavra'].max()\n",
        "maximo_dfs = dfs_fog['Tamanho da palavra'].max()\n",
        "\n",
        "print(\"DF: \" + str(maximo_df))\n",
        "print(\"DFS: \" + str(maximo_dfs))"
      ],
      "execution_count": 69,
      "outputs": [
        {
          "output_type": "stream",
          "text": [
            "DF: 19\n",
            "DFS: 18\n"
          ],
          "name": "stdout"
        }
      ]
    },
    {
      "cell_type": "code",
      "metadata": {
        "id": "Pj_tuiCPpfpe",
        "colab_type": "code",
        "colab": {
          "base_uri": "https://localhost:8080/",
          "height": 721
        },
        "outputId": "bc6700c5-d9b0-4ad8-fde6-9cd39db7f488"
      },
      "source": [
        "# Gráfico\n",
        "df_fog.plot(kind='bar',x='Variavel',y='Tamanho da palavra',color='red')\n",
        "plt.show()\n",
        "\n",
        "dfs_fog.plot(kind='bar',x='Variavel',y='Tamanho da palavra',color='blue')\n",
        "plt.show()"
      ],
      "execution_count": 82,
      "outputs": [
        {
          "output_type": "display_data",
          "data": {
            "image/png": "[encoded data removed]",
            "text/plain": [
              "<Figure size 432x288 with 1 Axes>"
            ]
          },
          "metadata": {
            "tags": []
          }
        },
        {
          "output_type": "display_data",
          "data": {
            "image/png": "[encoded data removed]",
            "text/plain": [
              "<Figure size 432x288 with 1 Axes>"
            ]
          },
          "metadata": {
            "tags": []
          }
        }
      ]
    },
    {
      "cell_type": "markdown",
      "metadata": {
        "id": "3Jt4N5ynPatn",
        "colab_type": "text"
      },
      "source": [
        "### 3) Fan-In / Fan-Out"
      ]
    },
    {
      "cell_type": "code",
      "metadata": {
        "id": "alBBjOmMPeBq",
        "colab_type": "code",
        "colab": {}
      },
      "source": [
        "projects = [i for i in os.listdir(\"/content/\") if i != \"sample_data\" and not i.startswith(\".\")]\n",
        "\n",
        "dados_fan_proj1 = []\n",
        "dados_fan_proj2 = []\n",
        "proj = 0\n",
        "\n",
        "# Iterar projetos\n",
        "for project in projects:\n",
        "  proj += 1\n",
        "  # Lista com os arquivos do projeto\n",
        "  files = [i for i in os.listdir(\"/content/\"+project) if i.endswith(\"py\")]\n",
        "  # Iterar arquivos\n",
        "  for file in files:\n",
        "    # Open file\n",
        "    f = open(\"/content/\"+ project+ \"/\" + file).readlines()\n",
        "    # Take out \\n from each line\n",
        "    f = [i.strip('\\n').strip() for i in f]\n",
        "    f = [i for i in f if 'def' in i and not i.startswith(\"#\")]\n",
        "\n",
        "    for i in f:\n",
        "      if(proj == 1): \n",
        "        dados_fan_proj1.append(str(i))\n",
        "      else:\n",
        "        if(proj == 2):\n",
        "          dados_fan_proj2.append(str(i))"
      ],
      "execution_count": 0,
      "outputs": []
    },
    {
      "cell_type": "code",
      "metadata": {
        "id": "OGMfqGn3vZ5j",
        "colab_type": "code",
        "colab": {
          "base_uri": "https://localhost:8080/",
          "height": 340
        },
        "outputId": "b14279be-1cdb-4d17-febd-65162fdb5600"
      },
      "source": [
        "print(\"DF\")\n",
        "for i in dados_fan_proj1:\n",
        "  print(i)\n",
        "print(\"DFS\")\n",
        "for j in dados_fan_proj2:\n",
        "  print(j)"
      ],
      "execution_count": 110,
      "outputs": [
        {
          "output_type": "stream",
          "text": [
            "DF\n",
            "def fillMemory():\n",
            "def first_fit(blockSize):\n",
            "def worst_fit(blockSize):\n",
            "def best_fit(blockSize):\n",
            "DFS\n",
            "def initialize(self, canvas):\n",
            "def Best_fit_run(self, canvas):\n",
            "def __init__(self, id_p, name, burst_time, color, arrival_time, size, x_place=0, y_place=0):\n",
            "def create_grid(self, canvas):\n",
            "def initialize(self, canvas):\n",
            "def Worst_fit_run(self,canvas):\n",
            "def __init__(self, name_ms, id_ms, space, x1, x2):\n",
            "def __main__():\n",
            "def first_run_event():\n",
            "def best_run_event():\n",
            "def worst_run_event():\n",
            "def initialize(self, canvas):\n",
            "def First_fit_run(self, canvas):\n"
          ],
          "name": "stdout"
        }
      ]
    },
    {
      "cell_type": "code",
      "metadata": {
        "id": "1Bpf7VYRvkNI",
        "colab_type": "code",
        "colab": {}
      },
      "source": [
        ""
      ],
      "execution_count": 0,
      "outputs": []
    }
  ]
}